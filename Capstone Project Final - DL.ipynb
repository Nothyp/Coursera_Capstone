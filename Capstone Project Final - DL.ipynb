{
 "cells": [
  {
   "cell_type": "markdown",
   "metadata": {},
   "source": [
    "# Daniel Lee - FINAL Capstone Project"
   ]
  },
  {
   "cell_type": "markdown",
   "metadata": {},
   "source": [
    "## i) Importing Libraries"
   ]
  },
  {
   "cell_type": "code",
   "execution_count": 3,
   "metadata": {},
   "outputs": [
    {
     "name": "stdout",
     "output_type": "stream",
     "text": [
      "Solving environment: done\n",
      "\n",
      "# All requested packages already installed.\n",
      "\n",
      "Folium installed and imported!\n",
      "Import complete!\n"
     ]
    }
   ],
   "source": [
    "#Import Library\n",
    "import requests\n",
    "from bs4 import BeautifulSoup \n",
    "import pandas as pd\n",
    "pd.set_option('display.max_columns', None)\n",
    "pd.set_option('display.max_rows', None)\n",
    "import random # library for random number generation\n",
    "\n",
    "#Installing Folium\n",
    "!conda install -c conda-forge folium=0.5.0 --yes\n",
    "import folium\n",
    "from mpl_toolkits.basemap import Basemap\n",
    "\n",
    "import json\n",
    "from pandas.io.json import json_normalize\n",
    "from sklearn.cluster import KMeans\n",
    "\n",
    "\n",
    "# Matplotlib and numpy\n",
    "import matplotlib.cm as cm\n",
    "import matplotlib.colors as colors\n",
    "import matplotlib.pyplot as plt\n",
    "\n",
    "import numpy as np\n",
    "\n",
    "import requests # library to handle requests\n",
    "from pandas.io.json import json_normalize # tranform JSON file into a pandas dataframe\n",
    "\n",
    "# libraries for displaying images\n",
    "from IPython.display import Image \n",
    "from IPython.core.display import HTML \n",
    "\n",
    "print('Folium installed and imported!')\n",
    "print(\"Import complete!\")\n",
    "\n",
    "# from geopy.geocoders import Nominatim # convert an address into latitude and longitude values"
   ]
  },
  {
   "cell_type": "markdown",
   "metadata": {},
   "source": [
    "## ii) Setting up Foursquare Credentials"
   ]
  },
  {
   "cell_type": "code",
   "execution_count": 42,
   "metadata": {},
   "outputs": [
    {
     "name": "stdout",
     "output_type": "stream",
     "text": [
      "Your credentails:\n",
      "CLIENT_ID: O1EG5HDYZEETZIGRG5LSESCSH113KLS1M0ITP3VRU14ZTWUT\n",
      "CLIENT_SECRET:FP00VEYKKEUX01QWVL3O351XDMZCFXZ1CESEPIREXRBME1CN\n"
     ]
    }
   ],
   "source": [
    "CLIENT_ID = 'O1EG5HDYZEETZIGRG5LSESCSH113KLS1M0ITP3VRU14ZTWUT' # your Foursquare ID\n",
    "CLIENT_SECRET = 'FP00VEYKKEUX01QWVL3O351XDMZCFXZ1CESEPIREXRBME1CN' # your Foursquare Secret\n",
    "VERSION = '20181101' # Foursquare API version\n",
    "LIMIT = 100\n",
    "print('Your credentails:')\n",
    "print('CLIENT_ID: ' + CLIENT_ID)\n",
    "print('CLIENT_SECRET:' + CLIENT_SECRET)"
   ]
  },
  {
   "cell_type": "markdown",
   "metadata": {},
   "source": [
    "## Part 1 - Exploratory Data Analysis using Foursquare"
   ]
  },
  {
   "cell_type": "markdown",
   "metadata": {},
   "source": [
    "#### a) Explore the Number of gyms in SOHO *(within a 2km radius)\n",
    "> *Represents Potential Demand of Sports or Exercise in Area*"
   ]
  },
  {
   "cell_type": "code",
   "execution_count": 206,
   "metadata": {},
   "outputs": [
    {
     "name": "stdout",
     "output_type": "stream",
     "text": [
      "51.5136 -0.1365\n"
     ]
    },
    {
     "data": {
      "text/html": [
       "<div style=\"width:100%;\"><div style=\"position:relative;width:100%;height:0;padding-bottom:60%;\"><iframe src=\"data:text/html;charset=utf-8;base64,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\" style=\"position:absolute;width:100%;height:100%;left:0;top:0;border:none !important;\" allowfullscreen webkitallowfullscreen mozallowfullscreen></iframe></div></div>"
      ],
      "text/plain": [
       "<folium.folium.Map at 0x7ff5d8a31940>"
      ]
     },
     "execution_count": 206,
     "metadata": {},
     "output_type": "execute_result"
    }
   ],
   "source": [
    "latitude = 51.5136\n",
    "longitude = -0.1365\n",
    "print(latitude, longitude)\n",
    "# 51.5054° N, 0.0235° W -- Canary Wharf\n",
    "# 51.5136° N, 0.1365° W is SOHO London\n",
    "\n",
    "\n",
    "venues_map = folium.Map(location=[latitude, longitude], zoom_start=13) # generate map \n",
    "\n",
    "# add a red circle marker to represent the SOHO\n",
    "folium.features.CircleMarker(\n",
    "    [latitude, longitude],\n",
    "    radius=10,\n",
    "    color='red',\n",
    "    popup='Gym',\n",
    "    fill = True,\n",
    "    fill_color = 'red',\n",
    "    fill_opacity = 0.6\n",
    ").add_to(venues_map)\n",
    "\n",
    "venues_map"
   ]
  },
  {
   "cell_type": "code",
   "execution_count": 197,
   "metadata": {},
   "outputs": [
    {
     "name": "stdout",
     "output_type": "stream",
     "text": [
      "Gyms within 2 km of SOHO\n"
     ]
    }
   ],
   "source": [
    "search_query = 'Gym'\n",
    "radius = 2000\n",
    "print(\"Gyms within 2 km of SOHO\")"
   ]
  },
  {
   "cell_type": "code",
   "execution_count": 208,
   "metadata": {},
   "outputs": [
    {
     "data": {
      "text/plain": [
       "'https://api.foursquare.com/v2/venues/search?client_id=O1EG5HDYZEETZIGRG5LSESCSH113KLS1M0ITP3VRU14ZTWUT&client_secret=FP00VEYKKEUX01QWVL3O351XDMZCFXZ1CESEPIREXRBME1CN&ll=51.5136,-0.1365&v=20181101&query=Gym&radius=2000&limit=100'"
      ]
     },
     "execution_count": 208,
     "metadata": {},
     "output_type": "execute_result"
    }
   ],
   "source": [
    "url = 'https://api.foursquare.com/v2/venues/search?client_id={}&client_secret={}&ll={},{}&v={}&query={}&radius={}&limit={}'.format(CLIENT_ID, CLIENT_SECRET, latitude, longitude, VERSION, search_query, radius, LIMIT)\n",
    "url\n",
    "\n"
   ]
  },
  {
   "cell_type": "code",
   "execution_count": 209,
   "metadata": {},
   "outputs": [],
   "source": [
    "results = requests.get(url).json()\n",
    "# results"
   ]
  },
  {
   "cell_type": "markdown",
   "metadata": {},
   "source": [
    "> Review the results"
   ]
  },
  {
   "cell_type": "code",
   "execution_count": 210,
   "metadata": {},
   "outputs": [
    {
     "data": {
      "text/html": [
       "<div>\n",
       "<style scoped>\n",
       "    .dataframe tbody tr th:only-of-type {\n",
       "        vertical-align: middle;\n",
       "    }\n",
       "\n",
       "    .dataframe tbody tr th {\n",
       "        vertical-align: top;\n",
       "    }\n",
       "\n",
       "    .dataframe thead th {\n",
       "        text-align: right;\n",
       "    }\n",
       "</style>\n",
       "<table border=\"1\" class=\"dataframe\">\n",
       "  <thead>\n",
       "    <tr style=\"text-align: right;\">\n",
       "      <th></th>\n",
       "      <th>categories</th>\n",
       "      <th>hasPerk</th>\n",
       "      <th>id</th>\n",
       "      <th>location.address</th>\n",
       "      <th>location.cc</th>\n",
       "      <th>location.city</th>\n",
       "      <th>location.country</th>\n",
       "      <th>location.crossStreet</th>\n",
       "      <th>location.distance</th>\n",
       "      <th>location.formattedAddress</th>\n",
       "      <th>location.labeledLatLngs</th>\n",
       "      <th>lat</th>\n",
       "      <th>lng</th>\n",
       "      <th>location.postalCode</th>\n",
       "      <th>location.state</th>\n",
       "      <th>name</th>\n",
       "      <th>referralId</th>\n",
       "    </tr>\n",
       "  </thead>\n",
       "  <tbody>\n",
       "    <tr>\n",
       "      <th>0</th>\n",
       "      <td>[{'id': '4bf58dd8d48988d176941735', 'name': 'G...</td>\n",
       "      <td>False</td>\n",
       "      <td>54c89520498e5d7951c9dd48</td>\n",
       "      <td>The May Fair Hotel</td>\n",
       "      <td>GB</td>\n",
       "      <td>Mayfair</td>\n",
       "      <td>United Kingdom</td>\n",
       "      <td>Stratton St</td>\n",
       "      <td>785</td>\n",
       "      <td>[The May Fair Hotel (Stratton St), Mayfair, Gr...</td>\n",
       "      <td>[{'label': 'display', 'lat': 51.50848296133080...</td>\n",
       "      <td>51.508483</td>\n",
       "      <td>-0.144305</td>\n",
       "      <td>W1J 8LT</td>\n",
       "      <td>Greater London</td>\n",
       "      <td>The May Fair Gym</td>\n",
       "      <td>v-1546752302</td>\n",
       "    </tr>\n",
       "    <tr>\n",
       "      <th>1</th>\n",
       "      <td>[{'id': '4bf58dd8d48988d175941735', 'name': 'G...</td>\n",
       "      <td>False</td>\n",
       "      <td>4bb222a3f964a52002bc3ce3</td>\n",
       "      <td>4-12 Regent St</td>\n",
       "      <td>GB</td>\n",
       "      <td>Piccadilly</td>\n",
       "      <td>United Kingdom</td>\n",
       "      <td>Rex House</td>\n",
       "      <td>602</td>\n",
       "      <td>[4-12 Regent St (Rex House), Piccadilly, Great...</td>\n",
       "      <td>[{'label': 'display', 'lat': 51.50850603082001...</td>\n",
       "      <td>51.508506</td>\n",
       "      <td>-0.133562</td>\n",
       "      <td>SW1Y 4PE</td>\n",
       "      <td>Greater London</td>\n",
       "      <td>Pure Gym</td>\n",
       "      <td>v-1546752302</td>\n",
       "    </tr>\n",
       "    <tr>\n",
       "      <th>2</th>\n",
       "      <td>[{'id': '4bf58dd8d48988d176941735', 'name': 'G...</td>\n",
       "      <td>False</td>\n",
       "      <td>4ae4991ff964a520259c21e3</td>\n",
       "      <td>9 Endell Street</td>\n",
       "      <td>GB</td>\n",
       "      <td>London</td>\n",
       "      <td>United Kingdom</td>\n",
       "      <td>NaN</td>\n",
       "      <td>874</td>\n",
       "      <td>[9 Endell Street, London, Greater London, WC2H...</td>\n",
       "      <td>[{'label': 'display', 'lat': 51.51415625004893...</td>\n",
       "      <td>51.514156</td>\n",
       "      <td>-0.123908</td>\n",
       "      <td>WC2H 9SA</td>\n",
       "      <td>Greater London</td>\n",
       "      <td>Nuffield Health Fitness &amp; Wellbeing Gym</td>\n",
       "      <td>v-1546752302</td>\n",
       "    </tr>\n",
       "    <tr>\n",
       "      <th>3</th>\n",
       "      <td>[{'id': '4bf58dd8d48988d176941735', 'name': 'G...</td>\n",
       "      <td>False</td>\n",
       "      <td>5881e9efcc5b6a08df5a8768</td>\n",
       "      <td>31-36 Leicester Sq</td>\n",
       "      <td>GB</td>\n",
       "      <td>London</td>\n",
       "      <td>United Kingdom</td>\n",
       "      <td>NaN</td>\n",
       "      <td>613</td>\n",
       "      <td>[31-36 Leicester Sq, London, Greater London, W...</td>\n",
       "      <td>[{'label': 'display', 'lat': 51.50995, 'lng': ...</td>\n",
       "      <td>51.509950</td>\n",
       "      <td>-0.129873</td>\n",
       "      <td>WC2H 7LH</td>\n",
       "      <td>Greater London</td>\n",
       "      <td>Radisson Blu Gym</td>\n",
       "      <td>v-1546752302</td>\n",
       "    </tr>\n",
       "    <tr>\n",
       "      <th>4</th>\n",
       "      <td>[{'id': '4bf58dd8d48988d175941735', 'name': 'G...</td>\n",
       "      <td>False</td>\n",
       "      <td>56fe22b0498ef2d2226413fb</td>\n",
       "      <td>NaN</td>\n",
       "      <td>GB</td>\n",
       "      <td>London</td>\n",
       "      <td>United Kingdom</td>\n",
       "      <td>NaN</td>\n",
       "      <td>531</td>\n",
       "      <td>[London, Greater London, United Kingdom]</td>\n",
       "      <td>[{'label': 'display', 'lat': 51.51002945140006...</td>\n",
       "      <td>51.510029</td>\n",
       "      <td>-0.131398</td>\n",
       "      <td>NaN</td>\n",
       "      <td>Greater London</td>\n",
       "      <td>FIT (W Hotel Gym)</td>\n",
       "      <td>v-1546752302</td>\n",
       "    </tr>\n",
       "  </tbody>\n",
       "</table>\n",
       "</div>"
      ],
      "text/plain": [
       "                                          categories  hasPerk  \\\n",
       "0  [{'id': '4bf58dd8d48988d176941735', 'name': 'G...    False   \n",
       "1  [{'id': '4bf58dd8d48988d175941735', 'name': 'G...    False   \n",
       "2  [{'id': '4bf58dd8d48988d176941735', 'name': 'G...    False   \n",
       "3  [{'id': '4bf58dd8d48988d176941735', 'name': 'G...    False   \n",
       "4  [{'id': '4bf58dd8d48988d175941735', 'name': 'G...    False   \n",
       "\n",
       "                         id    location.address location.cc location.city  \\\n",
       "0  54c89520498e5d7951c9dd48  The May Fair Hotel          GB       Mayfair   \n",
       "1  4bb222a3f964a52002bc3ce3      4-12 Regent St          GB    Piccadilly   \n",
       "2  4ae4991ff964a520259c21e3     9 Endell Street          GB        London   \n",
       "3  5881e9efcc5b6a08df5a8768  31-36 Leicester Sq          GB        London   \n",
       "4  56fe22b0498ef2d2226413fb                 NaN          GB        London   \n",
       "\n",
       "  location.country location.crossStreet  location.distance  \\\n",
       "0   United Kingdom          Stratton St                785   \n",
       "1   United Kingdom            Rex House                602   \n",
       "2   United Kingdom                  NaN                874   \n",
       "3   United Kingdom                  NaN                613   \n",
       "4   United Kingdom                  NaN                531   \n",
       "\n",
       "                           location.formattedAddress  \\\n",
       "0  [The May Fair Hotel (Stratton St), Mayfair, Gr...   \n",
       "1  [4-12 Regent St (Rex House), Piccadilly, Great...   \n",
       "2  [9 Endell Street, London, Greater London, WC2H...   \n",
       "3  [31-36 Leicester Sq, London, Greater London, W...   \n",
       "4           [London, Greater London, United Kingdom]   \n",
       "\n",
       "                             location.labeledLatLngs        lat       lng  \\\n",
       "0  [{'label': 'display', 'lat': 51.50848296133080...  51.508483 -0.144305   \n",
       "1  [{'label': 'display', 'lat': 51.50850603082001...  51.508506 -0.133562   \n",
       "2  [{'label': 'display', 'lat': 51.51415625004893...  51.514156 -0.123908   \n",
       "3  [{'label': 'display', 'lat': 51.50995, 'lng': ...  51.509950 -0.129873   \n",
       "4  [{'label': 'display', 'lat': 51.51002945140006...  51.510029 -0.131398   \n",
       "\n",
       "  location.postalCode  location.state  \\\n",
       "0             W1J 8LT  Greater London   \n",
       "1            SW1Y 4PE  Greater London   \n",
       "2            WC2H 9SA  Greater London   \n",
       "3            WC2H 7LH  Greater London   \n",
       "4                 NaN  Greater London   \n",
       "\n",
       "                                      name    referralId  \n",
       "0                         The May Fair Gym  v-1546752302  \n",
       "1                                 Pure Gym  v-1546752302  \n",
       "2  Nuffield Health Fitness & Wellbeing Gym  v-1546752302  \n",
       "3                         Radisson Blu Gym  v-1546752302  \n",
       "4                        FIT (W Hotel Gym)  v-1546752302  "
      ]
     },
     "execution_count": 210,
     "metadata": {},
     "output_type": "execute_result"
    }
   ],
   "source": [
    "# assign relevant part of JSON to venues\n",
    "venues = results['response']['venues']\n",
    "\n",
    "# tranform venues into a dataframe\n",
    "gyms = json_normalize(venues)\n",
    "gyms.rename(columns={'location.lat':'lat', 'location.lng':'lng'}, inplace=True)\n",
    "gyms.head()\n",
    "\n",
    "\n"
   ]
  },
  {
   "cell_type": "code",
   "execution_count": 211,
   "metadata": {},
   "outputs": [
    {
     "data": {
      "text/plain": [
       "categories                   50\n",
       "hasPerk                      50\n",
       "id                           50\n",
       "location.address             38\n",
       "location.cc                  50\n",
       "location.city                44\n",
       "location.country             50\n",
       "location.crossStreet         10\n",
       "location.distance            50\n",
       "location.formattedAddress    50\n",
       "location.labeledLatLngs      50\n",
       "lat                          50\n",
       "lng                          50\n",
       "location.postalCode          33\n",
       "location.state               44\n",
       "name                         50\n",
       "referralId                   50\n",
       "dtype: int64"
      ]
     },
     "execution_count": 211,
     "metadata": {},
     "output_type": "execute_result"
    }
   ],
   "source": [
    "gyms.count()"
   ]
  },
  {
   "cell_type": "markdown",
   "metadata": {},
   "source": [
    "#### b) Explore the Number of Squash Centres in SOHO *(within a 5km radius)*\n",
    "> *Represents level of Competition*"
   ]
  },
  {
   "cell_type": "code",
   "execution_count": 212,
   "metadata": {},
   "outputs": [
    {
     "name": "stdout",
     "output_type": "stream",
     "text": [
      "Squash within 5 km of SOHO\n"
     ]
    }
   ],
   "source": [
    "search_query2 = 'Squash'\n",
    "radius2 = 5000\n",
    "print(\"Squash within 5 km of SOHO\")"
   ]
  },
  {
   "cell_type": "code",
   "execution_count": 213,
   "metadata": {},
   "outputs": [
    {
     "data": {
      "text/plain": [
       "'https://api.foursquare.com/v2/venues/search?client_id=O1EG5HDYZEETZIGRG5LSESCSH113KLS1M0ITP3VRU14ZTWUT&client_secret=FP00VEYKKEUX01QWVL3O351XDMZCFXZ1CESEPIREXRBME1CN&ll=51.5136,-0.1365&v=20181101&query=Squash&radius=5000&limit=100'"
      ]
     },
     "execution_count": 213,
     "metadata": {},
     "output_type": "execute_result"
    }
   ],
   "source": [
    "url_Squash = 'https://api.foursquare.com/v2/venues/search?client_id={}&client_secret={}&ll={},{}&v={}&query={}&radius={}&limit={}'.format(CLIENT_ID, CLIENT_SECRET, latitude, longitude, VERSION, search_query2, radius2, LIMIT)\n",
    "url_Squash"
   ]
  },
  {
   "cell_type": "code",
   "execution_count": 214,
   "metadata": {},
   "outputs": [],
   "source": [
    "results2 = requests.get(url_Squash).json()\n",
    "# results2\n",
    "\n"
   ]
  },
  {
   "cell_type": "code",
   "execution_count": 216,
   "metadata": {},
   "outputs": [
    {
     "name": "stdout",
     "output_type": "stream",
     "text": [
      "7 Squash Centres were returned by Foursquare.\n"
     ]
    }
   ],
   "source": [
    "# assign relevant part of JSON to venues\n",
    "venues2 = results2['response']['venues']\n",
    "\n",
    "# tranform venues into a dataframe\n",
    "Squash_df = json_normalize(venues2)\n",
    "Squash_df.rename(columns={'location.lat':'lat', 'location.lng':'lng'}, inplace=True)\n",
    "Squash_df.head()\n",
    "\n",
    "print('{} Squash Centres were returned by Foursquare.'.format(Squash_df.shape[0]))\n"
   ]
  },
  {
   "cell_type": "code",
   "execution_count": 217,
   "metadata": {},
   "outputs": [
    {
     "data": {
      "text/html": [
       "<div>\n",
       "<style scoped>\n",
       "    .dataframe tbody tr th:only-of-type {\n",
       "        vertical-align: middle;\n",
       "    }\n",
       "\n",
       "    .dataframe tbody tr th {\n",
       "        vertical-align: top;\n",
       "    }\n",
       "\n",
       "    .dataframe thead th {\n",
       "        text-align: right;\n",
       "    }\n",
       "</style>\n",
       "<table border=\"1\" class=\"dataframe\">\n",
       "  <thead>\n",
       "    <tr style=\"text-align: right;\">\n",
       "      <th></th>\n",
       "      <th>categories</th>\n",
       "      <th>hasPerk</th>\n",
       "      <th>id</th>\n",
       "      <th>location.address</th>\n",
       "      <th>location.cc</th>\n",
       "      <th>location.city</th>\n",
       "      <th>location.country</th>\n",
       "      <th>location.crossStreet</th>\n",
       "      <th>location.distance</th>\n",
       "      <th>location.formattedAddress</th>\n",
       "      <th>location.labeledLatLngs</th>\n",
       "      <th>lat</th>\n",
       "      <th>lng</th>\n",
       "      <th>location.postalCode</th>\n",
       "      <th>location.state</th>\n",
       "      <th>name</th>\n",
       "      <th>referralId</th>\n",
       "    </tr>\n",
       "  </thead>\n",
       "  <tbody>\n",
       "    <tr>\n",
       "      <th>0</th>\n",
       "      <td>[{'id': '52e81612bcbc57f1066b7a26', 'name': 'R...</td>\n",
       "      <td>False</td>\n",
       "      <td>5321e2e1498ec1387434fb5b</td>\n",
       "      <td>NaN</td>\n",
       "      <td>GB</td>\n",
       "      <td>NaN</td>\n",
       "      <td>United Kingdom</td>\n",
       "      <td>NaN</td>\n",
       "      <td>1310</td>\n",
       "      <td>[United Kingdom]</td>\n",
       "      <td>[{'label': 'display', 'lat': 51.51530037022882...</td>\n",
       "      <td>51.515300</td>\n",
       "      <td>-0.117775</td>\n",
       "      <td>NaN</td>\n",
       "      <td>NaN</td>\n",
       "      <td>LSE Squash Courts</td>\n",
       "      <td>v-1546752313</td>\n",
       "    </tr>\n",
       "    <tr>\n",
       "      <th>1</th>\n",
       "      <td>[{'id': '4bf58dd8d48988d1bd941735', 'name': 'S...</td>\n",
       "      <td>False</td>\n",
       "      <td>586f92c18cb34e38a5cb2802</td>\n",
       "      <td>46 Fish St Hill</td>\n",
       "      <td>GB</td>\n",
       "      <td>London</td>\n",
       "      <td>United Kingdom</td>\n",
       "      <td>NaN</td>\n",
       "      <td>3516</td>\n",
       "      <td>[46 Fish St Hill, London, Greater London, EC3R...</td>\n",
       "      <td>[{'label': 'display', 'lat': 51.51046, 'lng': ...</td>\n",
       "      <td>51.510460</td>\n",
       "      <td>-0.085995</td>\n",
       "      <td>EC3R 6BR</td>\n",
       "      <td>Greater London</td>\n",
       "      <td>Olive + Squash</td>\n",
       "      <td>v-1546752313</td>\n",
       "    </tr>\n",
       "    <tr>\n",
       "      <th>2</th>\n",
       "      <td>[{'id': '52e81612bcbc57f1066b7a2d', 'name': 'S...</td>\n",
       "      <td>False</td>\n",
       "      <td>571ccafc498e7a0a1b5de9f0</td>\n",
       "      <td>NaN</td>\n",
       "      <td>GB</td>\n",
       "      <td>NaN</td>\n",
       "      <td>United Kingdom</td>\n",
       "      <td>NaN</td>\n",
       "      <td>3224</td>\n",
       "      <td>[United Kingdom]</td>\n",
       "      <td>[{'label': 'display', 'lat': 51.52625092101996...</td>\n",
       "      <td>51.526251</td>\n",
       "      <td>-0.094622</td>\n",
       "      <td>NaN</td>\n",
       "      <td>NaN</td>\n",
       "      <td>Better Ironmonger Row Squash Courts</td>\n",
       "      <td>v-1546752313</td>\n",
       "    </tr>\n",
       "    <tr>\n",
       "      <th>3</th>\n",
       "      <td>[{'id': '52e81612bcbc57f1066b7a2d', 'name': 'S...</td>\n",
       "      <td>False</td>\n",
       "      <td>59c65f17d8096e53406cedb5</td>\n",
       "      <td>NaN</td>\n",
       "      <td>GB</td>\n",
       "      <td>London</td>\n",
       "      <td>United Kingdom</td>\n",
       "      <td>NaN</td>\n",
       "      <td>3933</td>\n",
       "      <td>[London, Greater London, SW8, United Kingdom]</td>\n",
       "      <td>[{'label': 'display', 'lat': 51.478542, 'lng':...</td>\n",
       "      <td>51.478542</td>\n",
       "      <td>-0.129367</td>\n",
       "      <td>SW8</td>\n",
       "      <td>Greater London</td>\n",
       "      <td>Southbank Club Squash Courts</td>\n",
       "      <td>v-1546752313</td>\n",
       "    </tr>\n",
       "    <tr>\n",
       "      <th>4</th>\n",
       "      <td>[{'id': '4bf58dd8d48988d175941735', 'name': 'G...</td>\n",
       "      <td>False</td>\n",
       "      <td>4ac518f7f964a52092af20e3</td>\n",
       "      <td>Chalk Hill Road</td>\n",
       "      <td>GB</td>\n",
       "      <td>London</td>\n",
       "      <td>United Kingdom</td>\n",
       "      <td>NaN</td>\n",
       "      <td>5693</td>\n",
       "      <td>[Chalk Hill Road, London, Greater London, W6 8...</td>\n",
       "      <td>[{'label': 'display', 'lat': 51.490529, 'lng':...</td>\n",
       "      <td>51.490529</td>\n",
       "      <td>-0.209826</td>\n",
       "      <td>W6 8DW</td>\n",
       "      <td>Greater London</td>\n",
       "      <td>Broadway Squash and Fitness Centre</td>\n",
       "      <td>v-1546752313</td>\n",
       "    </tr>\n",
       "  </tbody>\n",
       "</table>\n",
       "</div>"
      ],
      "text/plain": [
       "                                          categories  hasPerk  \\\n",
       "0  [{'id': '52e81612bcbc57f1066b7a26', 'name': 'R...    False   \n",
       "1  [{'id': '4bf58dd8d48988d1bd941735', 'name': 'S...    False   \n",
       "2  [{'id': '52e81612bcbc57f1066b7a2d', 'name': 'S...    False   \n",
       "3  [{'id': '52e81612bcbc57f1066b7a2d', 'name': 'S...    False   \n",
       "4  [{'id': '4bf58dd8d48988d175941735', 'name': 'G...    False   \n",
       "\n",
       "                         id location.address location.cc location.city  \\\n",
       "0  5321e2e1498ec1387434fb5b              NaN          GB           NaN   \n",
       "1  586f92c18cb34e38a5cb2802  46 Fish St Hill          GB        London   \n",
       "2  571ccafc498e7a0a1b5de9f0              NaN          GB           NaN   \n",
       "3  59c65f17d8096e53406cedb5              NaN          GB        London   \n",
       "4  4ac518f7f964a52092af20e3  Chalk Hill Road          GB        London   \n",
       "\n",
       "  location.country location.crossStreet  location.distance  \\\n",
       "0   United Kingdom                  NaN               1310   \n",
       "1   United Kingdom                  NaN               3516   \n",
       "2   United Kingdom                  NaN               3224   \n",
       "3   United Kingdom                  NaN               3933   \n",
       "4   United Kingdom                  NaN               5693   \n",
       "\n",
       "                           location.formattedAddress  \\\n",
       "0                                   [United Kingdom]   \n",
       "1  [46 Fish St Hill, London, Greater London, EC3R...   \n",
       "2                                   [United Kingdom]   \n",
       "3      [London, Greater London, SW8, United Kingdom]   \n",
       "4  [Chalk Hill Road, London, Greater London, W6 8...   \n",
       "\n",
       "                             location.labeledLatLngs        lat       lng  \\\n",
       "0  [{'label': 'display', 'lat': 51.51530037022882...  51.515300 -0.117775   \n",
       "1  [{'label': 'display', 'lat': 51.51046, 'lng': ...  51.510460 -0.085995   \n",
       "2  [{'label': 'display', 'lat': 51.52625092101996...  51.526251 -0.094622   \n",
       "3  [{'label': 'display', 'lat': 51.478542, 'lng':...  51.478542 -0.129367   \n",
       "4  [{'label': 'display', 'lat': 51.490529, 'lng':...  51.490529 -0.209826   \n",
       "\n",
       "  location.postalCode  location.state                                 name  \\\n",
       "0                 NaN             NaN                    LSE Squash Courts   \n",
       "1            EC3R 6BR  Greater London                       Olive + Squash   \n",
       "2                 NaN             NaN  Better Ironmonger Row Squash Courts   \n",
       "3                 SW8  Greater London         Southbank Club Squash Courts   \n",
       "4              W6 8DW  Greater London   Broadway Squash and Fitness Centre   \n",
       "\n",
       "     referralId  \n",
       "0  v-1546752313  \n",
       "1  v-1546752313  \n",
       "2  v-1546752313  \n",
       "3  v-1546752313  \n",
       "4  v-1546752313  "
      ]
     },
     "execution_count": 217,
     "metadata": {},
     "output_type": "execute_result"
    }
   ],
   "source": [
    "Squash_df.head()\n",
    "# Squash_df.shape[0]"
   ]
  },
  {
   "cell_type": "code",
   "execution_count": null,
   "metadata": {},
   "outputs": [],
   "source": []
  },
  {
   "cell_type": "markdown",
   "metadata": {},
   "source": [
    "## PART 2 - Methodology \n",
    "### Linking London Areas to FourSquare Data"
   ]
  },
  {
   "cell_type": "markdown",
   "metadata": {},
   "source": [
    "#### To identify the ideal area to start up a Squash Centre the following steps were conducted:\n",
    "1. Calculate the number of gyms within a 2km radius and squash Centres within a 5km radius for each respective area \n",
    "2. Count the total number of gyms and squash Centres within the London Area\n",
    "3. Create a column representing a weighting for 'Demand' and 'Competition' which will be: \n",
    "   * Demand = '# of Gyms / Total Number of Gyms'\n",
    "   * Competition = '# of Squash Centres / Total Number of Squash Centres'\n",
    "4. Create a last column, \"Weighted_Demand\" - adding the values from 'demand' and 'competition'\n",
    "5. Rank the London Areas by Weighted_Demand in descending order"
   ]
  },
  {
   "cell_type": "markdown",
   "metadata": {},
   "source": [
    "### Re-iterate for Canary Wharf & Shoreditch:\n",
    "#### *Gyms within 2kms"
   ]
  },
  {
   "cell_type": "markdown",
   "metadata": {},
   "source": [
    "> **Canary Wharf Gyms**"
   ]
  },
  {
   "cell_type": "code",
   "execution_count": 218,
   "metadata": {},
   "outputs": [
    {
     "name": "stdout",
     "output_type": "stream",
     "text": [
      "51.5054 -0.0235\n"
     ]
    }
   ],
   "source": [
    "#Location for Canary Wharf - (51.5054° N, 0.0235° W)\n",
    "latitude = 51.5054\n",
    "longitude = -0.0235\n",
    "\n",
    "LIMIT = 100\n",
    "radius = 2000\n",
    "\n",
    "print(latitude, longitude)"
   ]
  },
  {
   "cell_type": "code",
   "execution_count": 219,
   "metadata": {},
   "outputs": [
    {
     "data": {
      "text/plain": [
       "'https://api.foursquare.com/v2/venues/search?client_id=O1EG5HDYZEETZIGRG5LSESCSH113KLS1M0ITP3VRU14ZTWUT&client_secret=FP00VEYKKEUX01QWVL3O351XDMZCFXZ1CESEPIREXRBME1CN&ll=51.5054,-0.0235&v=20181101&query=Gym&radius=2000&limit=100'"
      ]
     },
     "execution_count": 219,
     "metadata": {},
     "output_type": "execute_result"
    }
   ],
   "source": [
    "url_gym2_CW = 'https://api.foursquare.com/v2/venues/search?client_id={}&client_secret={}&ll={},{}&v={}&query={}&radius={}&limit={}'.format(CLIENT_ID, CLIENT_SECRET, latitude, longitude, VERSION, search_query, radius, LIMIT)\n",
    "url_gym2_CW"
   ]
  },
  {
   "cell_type": "code",
   "execution_count": 220,
   "metadata": {},
   "outputs": [],
   "source": [
    "results2_CW = requests.get(url_gym2_CW).json()"
   ]
  },
  {
   "cell_type": "code",
   "execution_count": 221,
   "metadata": {},
   "outputs": [
    {
     "data": {
      "text/html": [
       "<div>\n",
       "<style scoped>\n",
       "    .dataframe tbody tr th:only-of-type {\n",
       "        vertical-align: middle;\n",
       "    }\n",
       "\n",
       "    .dataframe tbody tr th {\n",
       "        vertical-align: top;\n",
       "    }\n",
       "\n",
       "    .dataframe thead th {\n",
       "        text-align: right;\n",
       "    }\n",
       "</style>\n",
       "<table border=\"1\" class=\"dataframe\">\n",
       "  <thead>\n",
       "    <tr style=\"text-align: right;\">\n",
       "      <th></th>\n",
       "      <th>categories</th>\n",
       "      <th>hasPerk</th>\n",
       "      <th>id</th>\n",
       "      <th>location.address</th>\n",
       "      <th>location.cc</th>\n",
       "      <th>location.city</th>\n",
       "      <th>location.country</th>\n",
       "      <th>location.crossStreet</th>\n",
       "      <th>location.distance</th>\n",
       "      <th>location.formattedAddress</th>\n",
       "      <th>location.labeledLatLngs</th>\n",
       "      <th>lat</th>\n",
       "      <th>lng</th>\n",
       "      <th>location.neighborhood</th>\n",
       "      <th>location.postalCode</th>\n",
       "      <th>location.state</th>\n",
       "      <th>name</th>\n",
       "      <th>referralId</th>\n",
       "      <th>venuePage.id</th>\n",
       "    </tr>\n",
       "  </thead>\n",
       "  <tbody>\n",
       "    <tr>\n",
       "      <th>0</th>\n",
       "      <td>[{'id': '4bf58dd8d48988d175941735', 'name': 'G...</td>\n",
       "      <td>False</td>\n",
       "      <td>52f9d5e6498e570fd759c768</td>\n",
       "      <td>NaN</td>\n",
       "      <td>GB</td>\n",
       "      <td>NaN</td>\n",
       "      <td>United Kingdom</td>\n",
       "      <td>NaN</td>\n",
       "      <td>390</td>\n",
       "      <td>[United Kingdom]</td>\n",
       "      <td>[{'label': 'display', 'lat': 51.50511784611449...</td>\n",
       "      <td>51.505118</td>\n",
       "      <td>-0.017881</td>\n",
       "      <td>NaN</td>\n",
       "      <td>NaN</td>\n",
       "      <td>NaN</td>\n",
       "      <td>HSBC Level 5 Gym</td>\n",
       "      <td>v-1546752339</td>\n",
       "      <td>NaN</td>\n",
       "    </tr>\n",
       "    <tr>\n",
       "      <th>1</th>\n",
       "      <td>[{'id': '4bf58dd8d48988d176941735', 'name': 'G...</td>\n",
       "      <td>False</td>\n",
       "      <td>5080019ce4b0db330e67d2eb</td>\n",
       "      <td>25 Bank Street</td>\n",
       "      <td>GB</td>\n",
       "      <td>London</td>\n",
       "      <td>United Kingdom</td>\n",
       "      <td>NaN</td>\n",
       "      <td>333</td>\n",
       "      <td>[25 Bank Street, London, Greater London, E14 5...</td>\n",
       "      <td>[{'label': 'display', 'lat': 51.50333142475006...</td>\n",
       "      <td>51.503331</td>\n",
       "      <td>-0.020022</td>\n",
       "      <td>NaN</td>\n",
       "      <td>E14 5JP</td>\n",
       "      <td>Greater London</td>\n",
       "      <td>Nuffield Health Gym J.P. Morgan</td>\n",
       "      <td>v-1546752339</td>\n",
       "      <td>NaN</td>\n",
       "    </tr>\n",
       "    <tr>\n",
       "      <th>2</th>\n",
       "      <td>[{'id': '4bf58dd8d48988d175941735', 'name': 'G...</td>\n",
       "      <td>False</td>\n",
       "      <td>566ac90d498e25d72d60c351</td>\n",
       "      <td>5 Hertsmere Road, West India Quay, Canary Wharf</td>\n",
       "      <td>GB</td>\n",
       "      <td>London</td>\n",
       "      <td>United Kingdom</td>\n",
       "      <td>NaN</td>\n",
       "      <td>273</td>\n",
       "      <td>[5 Hertsmere Road, West India Quay, Canary Wha...</td>\n",
       "      <td>[{'label': 'display', 'lat': 51.50785446838057...</td>\n",
       "      <td>51.507854</td>\n",
       "      <td>-0.023271</td>\n",
       "      <td>NaN</td>\n",
       "      <td>E14 4AN</td>\n",
       "      <td>Greater London</td>\n",
       "      <td>PureGym</td>\n",
       "      <td>v-1546752339</td>\n",
       "      <td>NaN</td>\n",
       "    </tr>\n",
       "    <tr>\n",
       "      <th>3</th>\n",
       "      <td>[{'id': '58daa1558bbb0b01f18ec203', 'name': 'O...</td>\n",
       "      <td>False</td>\n",
       "      <td>563f597acd10cb8941246557</td>\n",
       "      <td>NaN</td>\n",
       "      <td>GB</td>\n",
       "      <td>NaN</td>\n",
       "      <td>United Kingdom</td>\n",
       "      <td>NaN</td>\n",
       "      <td>770</td>\n",
       "      <td>[United Kingdom]</td>\n",
       "      <td>[{'label': 'display', 'lat': 51.50417496859146...</td>\n",
       "      <td>51.504175</td>\n",
       "      <td>-0.034442</td>\n",
       "      <td>NaN</td>\n",
       "      <td>NaN</td>\n",
       "      <td>NaN</td>\n",
       "      <td>TGO The Great Outdoor Gym</td>\n",
       "      <td>v-1546752339</td>\n",
       "      <td>NaN</td>\n",
       "    </tr>\n",
       "    <tr>\n",
       "      <th>4</th>\n",
       "      <td>[{'id': '4bf58dd8d48988d175941735', 'name': 'G...</td>\n",
       "      <td>False</td>\n",
       "      <td>4b86753cf964a520ea8a31e3</td>\n",
       "      <td>8 Canada Square</td>\n",
       "      <td>GB</td>\n",
       "      <td>Canary Wharf</td>\n",
       "      <td>United Kingdom</td>\n",
       "      <td>Upper Bank Street</td>\n",
       "      <td>320</td>\n",
       "      <td>[8 Canada Square (Upper Bank Street), Canary W...</td>\n",
       "      <td>[{'label': 'display', 'lat': 51.50442477905902...</td>\n",
       "      <td>51.504425</td>\n",
       "      <td>-0.019140</td>\n",
       "      <td>NaN</td>\n",
       "      <td>E14 5HQ</td>\n",
       "      <td>Greater London</td>\n",
       "      <td>Fifth Dimension Gym</td>\n",
       "      <td>v-1546752339</td>\n",
       "      <td>NaN</td>\n",
       "    </tr>\n",
       "  </tbody>\n",
       "</table>\n",
       "</div>"
      ],
      "text/plain": [
       "                                          categories  hasPerk  \\\n",
       "0  [{'id': '4bf58dd8d48988d175941735', 'name': 'G...    False   \n",
       "1  [{'id': '4bf58dd8d48988d176941735', 'name': 'G...    False   \n",
       "2  [{'id': '4bf58dd8d48988d175941735', 'name': 'G...    False   \n",
       "3  [{'id': '58daa1558bbb0b01f18ec203', 'name': 'O...    False   \n",
       "4  [{'id': '4bf58dd8d48988d175941735', 'name': 'G...    False   \n",
       "\n",
       "                         id                                 location.address  \\\n",
       "0  52f9d5e6498e570fd759c768                                              NaN   \n",
       "1  5080019ce4b0db330e67d2eb                                   25 Bank Street   \n",
       "2  566ac90d498e25d72d60c351  5 Hertsmere Road, West India Quay, Canary Wharf   \n",
       "3  563f597acd10cb8941246557                                              NaN   \n",
       "4  4b86753cf964a520ea8a31e3                                  8 Canada Square   \n",
       "\n",
       "  location.cc location.city location.country location.crossStreet  \\\n",
       "0          GB           NaN   United Kingdom                  NaN   \n",
       "1          GB        London   United Kingdom                  NaN   \n",
       "2          GB        London   United Kingdom                  NaN   \n",
       "3          GB           NaN   United Kingdom                  NaN   \n",
       "4          GB  Canary Wharf   United Kingdom    Upper Bank Street   \n",
       "\n",
       "   location.distance                          location.formattedAddress  \\\n",
       "0                390                                   [United Kingdom]   \n",
       "1                333  [25 Bank Street, London, Greater London, E14 5...   \n",
       "2                273  [5 Hertsmere Road, West India Quay, Canary Wha...   \n",
       "3                770                                   [United Kingdom]   \n",
       "4                320  [8 Canada Square (Upper Bank Street), Canary W...   \n",
       "\n",
       "                             location.labeledLatLngs        lat       lng  \\\n",
       "0  [{'label': 'display', 'lat': 51.50511784611449...  51.505118 -0.017881   \n",
       "1  [{'label': 'display', 'lat': 51.50333142475006...  51.503331 -0.020022   \n",
       "2  [{'label': 'display', 'lat': 51.50785446838057...  51.507854 -0.023271   \n",
       "3  [{'label': 'display', 'lat': 51.50417496859146...  51.504175 -0.034442   \n",
       "4  [{'label': 'display', 'lat': 51.50442477905902...  51.504425 -0.019140   \n",
       "\n",
       "  location.neighborhood location.postalCode  location.state  \\\n",
       "0                   NaN                 NaN             NaN   \n",
       "1                   NaN             E14 5JP  Greater London   \n",
       "2                   NaN             E14 4AN  Greater London   \n",
       "3                   NaN                 NaN             NaN   \n",
       "4                   NaN             E14 5HQ  Greater London   \n",
       "\n",
       "                              name    referralId venuePage.id  \n",
       "0                 HSBC Level 5 Gym  v-1546752339          NaN  \n",
       "1  Nuffield Health Gym J.P. Morgan  v-1546752339          NaN  \n",
       "2                          PureGym  v-1546752339          NaN  \n",
       "3        TGO The Great Outdoor Gym  v-1546752339          NaN  \n",
       "4              Fifth Dimension Gym  v-1546752339          NaN  "
      ]
     },
     "execution_count": 221,
     "metadata": {},
     "output_type": "execute_result"
    }
   ],
   "source": [
    "# assign relevant part of JSON to venues\n",
    "venues_gym2_CW = results2_CW['response']['venues']\n",
    "\n",
    "# tranform venues into a dataframe\n",
    "gym2_CW = json_normalize(venues_gym2_CW)\n",
    "gym2_CW.rename(columns={'location.lat':'lat', 'location.lng':'lng'}, inplace=True)\n",
    "gym2_CW.head()\n",
    "\n"
   ]
  },
  {
   "cell_type": "code",
   "execution_count": 222,
   "metadata": {},
   "outputs": [
    {
     "name": "stdout",
     "output_type": "stream",
     "text": [
      "49 Gyms are near Canarywharf.\n"
     ]
    }
   ],
   "source": [
    "print('{} Gyms are near Canarywharf.'.format(gym2_CW.shape[0]))\n"
   ]
  },
  {
   "cell_type": "markdown",
   "metadata": {},
   "source": [
    "> **Shoreditch Gyms**"
   ]
  },
  {
   "cell_type": "code",
   "execution_count": 130,
   "metadata": {},
   "outputs": [],
   "source": [
    "#Location for Shoreditch  - (51.5285° N, 0.0847° W)"
   ]
  },
  {
   "cell_type": "code",
   "execution_count": 223,
   "metadata": {},
   "outputs": [
    {
     "name": "stdout",
     "output_type": "stream",
     "text": [
      "51.5285 -0.0847\n"
     ]
    }
   ],
   "source": [
    "latitude = 51.5285\n",
    "longitude = -0.0847\n",
    "print(latitude, longitude)"
   ]
  },
  {
   "cell_type": "code",
   "execution_count": 224,
   "metadata": {},
   "outputs": [
    {
     "data": {
      "text/plain": [
       "'https://api.foursquare.com/v2/venues/search?client_id=O1EG5HDYZEETZIGRG5LSESCSH113KLS1M0ITP3VRU14ZTWUT&client_secret=FP00VEYKKEUX01QWVL3O351XDMZCFXZ1CESEPIREXRBME1CN&ll=51.5285,-0.0847&v=20181101&query=Gym&radius=2000&limit=100'"
      ]
     },
     "execution_count": 224,
     "metadata": {},
     "output_type": "execute_result"
    }
   ],
   "source": [
    "url_gym3_SHD = 'https://api.foursquare.com/v2/venues/search?client_id={}&client_secret={}&ll={},{}&v={}&query={}&radius={}&limit={}'.format(CLIENT_ID, CLIENT_SECRET, latitude, longitude, VERSION, search_query, radius, LIMIT)\n",
    "url_gym3_SHD"
   ]
  },
  {
   "cell_type": "code",
   "execution_count": 225,
   "metadata": {},
   "outputs": [],
   "source": [
    "results3_SHD = requests.get(url_gym3_SHD).json()"
   ]
  },
  {
   "cell_type": "code",
   "execution_count": 226,
   "metadata": {},
   "outputs": [
    {
     "name": "stdout",
     "output_type": "stream",
     "text": [
      "50 Gyms are near Shoreditch.\n"
     ]
    }
   ],
   "source": [
    "# assign relevant part of JSON to venues\n",
    "venues_gym3_SHD = results3_SHD['response']['venues']\n",
    "\n",
    "# tranform venues into a dataframe\n",
    "gym3_SHD = json_normalize(venues_gym3_SHD)\n",
    "gym3_SHD.rename(columns={'location.lat':'lat', 'location.lng':'lng'}, inplace=True)\n",
    "gym3_SHD.head()\n",
    "\n",
    "print('{} Gyms are near Shoreditch.'.format(gym3_SHD.shape[0]))\n"
   ]
  },
  {
   "cell_type": "markdown",
   "metadata": {},
   "source": [
    "### *Squash Centres within 5kms"
   ]
  },
  {
   "cell_type": "markdown",
   "metadata": {},
   "source": [
    "> **Canary Wharf Squash Centres**"
   ]
  },
  {
   "cell_type": "code",
   "execution_count": 227,
   "metadata": {},
   "outputs": [
    {
     "name": "stdout",
     "output_type": "stream",
     "text": [
      "51.5054 -0.0235\n"
     ]
    }
   ],
   "source": [
    "#Location for Canary Wharf - (51.5054° N, 0.0235° W)\n",
    "latitude = 51.5054\n",
    "longitude = -0.0235\n",
    "LIMIT = 100\n",
    "radius = 5000\n",
    "\n",
    "\n",
    "print(latitude, longitude)"
   ]
  },
  {
   "cell_type": "code",
   "execution_count": 228,
   "metadata": {},
   "outputs": [
    {
     "data": {
      "text/plain": [
       "'https://api.foursquare.com/v2/venues/search?client_id=O1EG5HDYZEETZIGRG5LSESCSH113KLS1M0ITP3VRU14ZTWUT&client_secret=FP00VEYKKEUX01QWVL3O351XDMZCFXZ1CESEPIREXRBME1CN&ll=51.5054,-0.0235&v=20181101&query=Squash&radius=5000&limit=100'"
      ]
     },
     "execution_count": 228,
     "metadata": {},
     "output_type": "execute_result"
    }
   ],
   "source": [
    "url_Squash2_CW = 'https://api.foursquare.com/v2/venues/search?client_id={}&client_secret={}&ll={},{}&v={}&query={}&radius={}&limit={}'.format(CLIENT_ID, CLIENT_SECRET, latitude, longitude, VERSION, search_query2, radius2, LIMIT)\n",
    "url_Squash2_CW"
   ]
  },
  {
   "cell_type": "code",
   "execution_count": 229,
   "metadata": {},
   "outputs": [],
   "source": [
    "results_Sq2_CW = requests.get(url_Squash2_CW).json()\n"
   ]
  },
  {
   "cell_type": "code",
   "execution_count": 230,
   "metadata": {},
   "outputs": [
    {
     "data": {
      "text/html": [
       "<div>\n",
       "<style scoped>\n",
       "    .dataframe tbody tr th:only-of-type {\n",
       "        vertical-align: middle;\n",
       "    }\n",
       "\n",
       "    .dataframe tbody tr th {\n",
       "        vertical-align: top;\n",
       "    }\n",
       "\n",
       "    .dataframe thead th {\n",
       "        text-align: right;\n",
       "    }\n",
       "</style>\n",
       "<table border=\"1\" class=\"dataframe\">\n",
       "  <thead>\n",
       "    <tr style=\"text-align: right;\">\n",
       "      <th></th>\n",
       "      <th>categories</th>\n",
       "      <th>hasPerk</th>\n",
       "      <th>id</th>\n",
       "      <th>location.address</th>\n",
       "      <th>location.cc</th>\n",
       "      <th>location.city</th>\n",
       "      <th>location.country</th>\n",
       "      <th>location.distance</th>\n",
       "      <th>location.formattedAddress</th>\n",
       "      <th>location.labeledLatLngs</th>\n",
       "      <th>lat</th>\n",
       "      <th>lng</th>\n",
       "      <th>location.postalCode</th>\n",
       "      <th>location.state</th>\n",
       "      <th>name</th>\n",
       "      <th>referralId</th>\n",
       "    </tr>\n",
       "  </thead>\n",
       "  <tbody>\n",
       "    <tr>\n",
       "      <th>0</th>\n",
       "      <td>[{'id': '4bf58dd8d48988d1bd941735', 'name': 'S...</td>\n",
       "      <td>False</td>\n",
       "      <td>586f92c18cb34e38a5cb2802</td>\n",
       "      <td>46 Fish St Hill</td>\n",
       "      <td>GB</td>\n",
       "      <td>London</td>\n",
       "      <td>United Kingdom</td>\n",
       "      <td>4366</td>\n",
       "      <td>[46 Fish St Hill, London, Greater London, EC3R...</td>\n",
       "      <td>[{'label': 'display', 'lat': 51.51046, 'lng': ...</td>\n",
       "      <td>51.51046</td>\n",
       "      <td>-0.085995</td>\n",
       "      <td>EC3R 6BR</td>\n",
       "      <td>Greater London</td>\n",
       "      <td>Olive + Squash</td>\n",
       "      <td>v-1546752369</td>\n",
       "    </tr>\n",
       "    <tr>\n",
       "      <th>1</th>\n",
       "      <td>[{'id': '52e81612bcbc57f1066b7a2e', 'name': 'S...</td>\n",
       "      <td>False</td>\n",
       "      <td>59cf88cbf427de36738b10eb</td>\n",
       "      <td>Address Blackheath Sports Club, Rectory Field,...</td>\n",
       "      <td>GB</td>\n",
       "      <td>London</td>\n",
       "      <td>United Kingdom</td>\n",
       "      <td>4702</td>\n",
       "      <td>[Address Blackheath Sports Club, Rectory Field...</td>\n",
       "      <td>[{'label': 'display', 'lat': 51.47732, 'lng': ...</td>\n",
       "      <td>51.47732</td>\n",
       "      <td>0.027195</td>\n",
       "      <td>SE3</td>\n",
       "      <td>Greater London</td>\n",
       "      <td>Blackheath Squash Club</td>\n",
       "      <td>v-1546752369</td>\n",
       "    </tr>\n",
       "  </tbody>\n",
       "</table>\n",
       "</div>"
      ],
      "text/plain": [
       "                                          categories  hasPerk  \\\n",
       "0  [{'id': '4bf58dd8d48988d1bd941735', 'name': 'S...    False   \n",
       "1  [{'id': '52e81612bcbc57f1066b7a2e', 'name': 'S...    False   \n",
       "\n",
       "                         id  \\\n",
       "0  586f92c18cb34e38a5cb2802   \n",
       "1  59cf88cbf427de36738b10eb   \n",
       "\n",
       "                                    location.address location.cc  \\\n",
       "0                                    46 Fish St Hill          GB   \n",
       "1  Address Blackheath Sports Club, Rectory Field,...          GB   \n",
       "\n",
       "  location.city location.country  location.distance  \\\n",
       "0        London   United Kingdom               4366   \n",
       "1        London   United Kingdom               4702   \n",
       "\n",
       "                           location.formattedAddress  \\\n",
       "0  [46 Fish St Hill, London, Greater London, EC3R...   \n",
       "1  [Address Blackheath Sports Club, Rectory Field...   \n",
       "\n",
       "                             location.labeledLatLngs       lat       lng  \\\n",
       "0  [{'label': 'display', 'lat': 51.51046, 'lng': ...  51.51046 -0.085995   \n",
       "1  [{'label': 'display', 'lat': 51.47732, 'lng': ...  51.47732  0.027195   \n",
       "\n",
       "  location.postalCode  location.state                    name    referralId  \n",
       "0            EC3R 6BR  Greater London          Olive + Squash  v-1546752369  \n",
       "1                 SE3  Greater London  Blackheath Squash Club  v-1546752369  "
      ]
     },
     "execution_count": 230,
     "metadata": {},
     "output_type": "execute_result"
    }
   ],
   "source": [
    "# assign relevant part of JSON to venues\n",
    "venues_Sq2_CW = results_Sq2_CW['response']['venues']\n",
    "\n",
    "# tranform venues into a dataframe\n",
    "Sq2_CW = json_normalize(venues_Sq2_CW)\n",
    "Sq2_CW.rename(columns={'location.lat':'lat', 'location.lng':'lng'}, inplace=True)\n",
    "Sq2_CW.head()\n",
    "\n"
   ]
  },
  {
   "cell_type": "code",
   "execution_count": 231,
   "metadata": {},
   "outputs": [
    {
     "name": "stdout",
     "output_type": "stream",
     "text": [
      "2 Squash Centres are near Canary Wharf.\n"
     ]
    }
   ],
   "source": [
    "\n",
    "print('{} Squash Centres are near Canary Wharf.'.format(Sq2_CW.shape[0]))"
   ]
  },
  {
   "cell_type": "markdown",
   "metadata": {},
   "source": [
    "> **Shoreditch Squash Centres**"
   ]
  },
  {
   "cell_type": "code",
   "execution_count": 232,
   "metadata": {},
   "outputs": [
    {
     "name": "stdout",
     "output_type": "stream",
     "text": [
      "51.5285 -0.0847\n"
     ]
    }
   ],
   "source": [
    "#Location for Shoreditch  - (51.5285° N, 0.0847° W)\n",
    "latitude = 51.5285\n",
    "longitude = -0.0847\n",
    "print(latitude, longitude)"
   ]
  },
  {
   "cell_type": "code",
   "execution_count": 233,
   "metadata": {},
   "outputs": [
    {
     "data": {
      "text/plain": [
       "'https://api.foursquare.com/v2/venues/search?client_id=O1EG5HDYZEETZIGRG5LSESCSH113KLS1M0ITP3VRU14ZTWUT&client_secret=FP00VEYKKEUX01QWVL3O351XDMZCFXZ1CESEPIREXRBME1CN&ll=51.5285,-0.0847&v=20181101&query=Squash&radius=5000&limit=100'"
      ]
     },
     "execution_count": 233,
     "metadata": {},
     "output_type": "execute_result"
    }
   ],
   "source": [
    "url_Squash2_SHD = 'https://api.foursquare.com/v2/venues/search?client_id={}&client_secret={}&ll={},{}&v={}&query={}&radius={}&limit={}'.format(CLIENT_ID, CLIENT_SECRET, latitude, longitude, VERSION, search_query2, radius2, LIMIT)\n",
    "url_Squash2_SHD"
   ]
  },
  {
   "cell_type": "code",
   "execution_count": 234,
   "metadata": {},
   "outputs": [],
   "source": [
    "results_Sq2_SHD = requests.get(url_Squash2_SHD).json()\n"
   ]
  },
  {
   "cell_type": "code",
   "execution_count": 235,
   "metadata": {},
   "outputs": [
    {
     "data": {
      "text/html": [
       "<div>\n",
       "<style scoped>\n",
       "    .dataframe tbody tr th:only-of-type {\n",
       "        vertical-align: middle;\n",
       "    }\n",
       "\n",
       "    .dataframe tbody tr th {\n",
       "        vertical-align: top;\n",
       "    }\n",
       "\n",
       "    .dataframe thead th {\n",
       "        text-align: right;\n",
       "    }\n",
       "</style>\n",
       "<table border=\"1\" class=\"dataframe\">\n",
       "  <thead>\n",
       "    <tr style=\"text-align: right;\">\n",
       "      <th></th>\n",
       "      <th>categories</th>\n",
       "      <th>hasPerk</th>\n",
       "      <th>id</th>\n",
       "      <th>location.address</th>\n",
       "      <th>location.cc</th>\n",
       "      <th>location.city</th>\n",
       "      <th>location.country</th>\n",
       "      <th>location.crossStreet</th>\n",
       "      <th>location.distance</th>\n",
       "      <th>location.formattedAddress</th>\n",
       "      <th>location.labeledLatLngs</th>\n",
       "      <th>lat</th>\n",
       "      <th>lng</th>\n",
       "      <th>location.postalCode</th>\n",
       "      <th>location.state</th>\n",
       "      <th>name</th>\n",
       "      <th>referralId</th>\n",
       "    </tr>\n",
       "  </thead>\n",
       "  <tbody>\n",
       "    <tr>\n",
       "      <th>0</th>\n",
       "      <td>[{'id': '52e81612bcbc57f1066b7a2d', 'name': 'S...</td>\n",
       "      <td>False</td>\n",
       "      <td>571ccafc498e7a0a1b5de9f0</td>\n",
       "      <td>NaN</td>\n",
       "      <td>GB</td>\n",
       "      <td>NaN</td>\n",
       "      <td>United Kingdom</td>\n",
       "      <td>NaN</td>\n",
       "      <td>731</td>\n",
       "      <td>[United Kingdom]</td>\n",
       "      <td>[{'label': 'display', 'lat': 51.52625092101996...</td>\n",
       "      <td>51.526251</td>\n",
       "      <td>-0.094622</td>\n",
       "      <td>NaN</td>\n",
       "      <td>NaN</td>\n",
       "      <td>Better Ironmonger Row Squash Courts</td>\n",
       "      <td>v-1546752378</td>\n",
       "    </tr>\n",
       "    <tr>\n",
       "      <th>1</th>\n",
       "      <td>[{'id': '4bf58dd8d48988d1bd941735', 'name': 'S...</td>\n",
       "      <td>False</td>\n",
       "      <td>586f92c18cb34e38a5cb2802</td>\n",
       "      <td>46 Fish St Hill</td>\n",
       "      <td>GB</td>\n",
       "      <td>London</td>\n",
       "      <td>United Kingdom</td>\n",
       "      <td>NaN</td>\n",
       "      <td>2010</td>\n",
       "      <td>[46 Fish St Hill, London, Greater London, EC3R...</td>\n",
       "      <td>[{'label': 'display', 'lat': 51.51046, 'lng': ...</td>\n",
       "      <td>51.510460</td>\n",
       "      <td>-0.085995</td>\n",
       "      <td>EC3R 6BR</td>\n",
       "      <td>Greater London</td>\n",
       "      <td>Olive + Squash</td>\n",
       "      <td>v-1546752378</td>\n",
       "    </tr>\n",
       "    <tr>\n",
       "      <th>2</th>\n",
       "      <td>[{'id': '52e81612bcbc57f1066b7a26', 'name': 'R...</td>\n",
       "      <td>False</td>\n",
       "      <td>5321e2e1498ec1387434fb5b</td>\n",
       "      <td>NaN</td>\n",
       "      <td>GB</td>\n",
       "      <td>NaN</td>\n",
       "      <td>United Kingdom</td>\n",
       "      <td>NaN</td>\n",
       "      <td>2721</td>\n",
       "      <td>[United Kingdom]</td>\n",
       "      <td>[{'label': 'display', 'lat': 51.51530037022882...</td>\n",
       "      <td>51.515300</td>\n",
       "      <td>-0.117775</td>\n",
       "      <td>NaN</td>\n",
       "      <td>NaN</td>\n",
       "      <td>LSE Squash Courts</td>\n",
       "      <td>v-1546752378</td>\n",
       "    </tr>\n",
       "    <tr>\n",
       "      <th>3</th>\n",
       "      <td>[{'id': '4e39a956bd410d7aed40cbc3', 'name': 'T...</td>\n",
       "      <td>False</td>\n",
       "      <td>4d7a7cd813d5b60c572a7f9d</td>\n",
       "      <td>Courtside</td>\n",
       "      <td>GB</td>\n",
       "      <td>Crouch End</td>\n",
       "      <td>United Kingdom</td>\n",
       "      <td>Coolhurst Rd.</td>\n",
       "      <td>6244</td>\n",
       "      <td>[Courtside (Coolhurst Rd.), Crouch End, Greate...</td>\n",
       "      <td>[{'label': 'display', 'lat': 51.57658668486048...</td>\n",
       "      <td>51.576587</td>\n",
       "      <td>-0.131151</td>\n",
       "      <td>N8 8EY</td>\n",
       "      <td>Greater London</td>\n",
       "      <td>Coolhurst Tennis &amp; Squash Club</td>\n",
       "      <td>v-1546752378</td>\n",
       "    </tr>\n",
       "    <tr>\n",
       "      <th>4</th>\n",
       "      <td>[{'id': '52e81612bcbc57f1066b7a2d', 'name': 'S...</td>\n",
       "      <td>False</td>\n",
       "      <td>59c65f17d8096e53406cedb5</td>\n",
       "      <td>NaN</td>\n",
       "      <td>GB</td>\n",
       "      <td>London</td>\n",
       "      <td>United Kingdom</td>\n",
       "      <td>NaN</td>\n",
       "      <td>6364</td>\n",
       "      <td>[London, Greater London, SW8, United Kingdom]</td>\n",
       "      <td>[{'label': 'display', 'lat': 51.478542, 'lng':...</td>\n",
       "      <td>51.478542</td>\n",
       "      <td>-0.129367</td>\n",
       "      <td>SW8</td>\n",
       "      <td>Greater London</td>\n",
       "      <td>Southbank Club Squash Courts</td>\n",
       "      <td>v-1546752378</td>\n",
       "    </tr>\n",
       "  </tbody>\n",
       "</table>\n",
       "</div>"
      ],
      "text/plain": [
       "                                          categories  hasPerk  \\\n",
       "0  [{'id': '52e81612bcbc57f1066b7a2d', 'name': 'S...    False   \n",
       "1  [{'id': '4bf58dd8d48988d1bd941735', 'name': 'S...    False   \n",
       "2  [{'id': '52e81612bcbc57f1066b7a26', 'name': 'R...    False   \n",
       "3  [{'id': '4e39a956bd410d7aed40cbc3', 'name': 'T...    False   \n",
       "4  [{'id': '52e81612bcbc57f1066b7a2d', 'name': 'S...    False   \n",
       "\n",
       "                         id location.address location.cc location.city  \\\n",
       "0  571ccafc498e7a0a1b5de9f0              NaN          GB           NaN   \n",
       "1  586f92c18cb34e38a5cb2802  46 Fish St Hill          GB        London   \n",
       "2  5321e2e1498ec1387434fb5b              NaN          GB           NaN   \n",
       "3  4d7a7cd813d5b60c572a7f9d        Courtside          GB    Crouch End   \n",
       "4  59c65f17d8096e53406cedb5              NaN          GB        London   \n",
       "\n",
       "  location.country location.crossStreet  location.distance  \\\n",
       "0   United Kingdom                  NaN                731   \n",
       "1   United Kingdom                  NaN               2010   \n",
       "2   United Kingdom                  NaN               2721   \n",
       "3   United Kingdom        Coolhurst Rd.               6244   \n",
       "4   United Kingdom                  NaN               6364   \n",
       "\n",
       "                           location.formattedAddress  \\\n",
       "0                                   [United Kingdom]   \n",
       "1  [46 Fish St Hill, London, Greater London, EC3R...   \n",
       "2                                   [United Kingdom]   \n",
       "3  [Courtside (Coolhurst Rd.), Crouch End, Greate...   \n",
       "4      [London, Greater London, SW8, United Kingdom]   \n",
       "\n",
       "                             location.labeledLatLngs        lat       lng  \\\n",
       "0  [{'label': 'display', 'lat': 51.52625092101996...  51.526251 -0.094622   \n",
       "1  [{'label': 'display', 'lat': 51.51046, 'lng': ...  51.510460 -0.085995   \n",
       "2  [{'label': 'display', 'lat': 51.51530037022882...  51.515300 -0.117775   \n",
       "3  [{'label': 'display', 'lat': 51.57658668486048...  51.576587 -0.131151   \n",
       "4  [{'label': 'display', 'lat': 51.478542, 'lng':...  51.478542 -0.129367   \n",
       "\n",
       "  location.postalCode  location.state                                 name  \\\n",
       "0                 NaN             NaN  Better Ironmonger Row Squash Courts   \n",
       "1            EC3R 6BR  Greater London                       Olive + Squash   \n",
       "2                 NaN             NaN                    LSE Squash Courts   \n",
       "3              N8 8EY  Greater London       Coolhurst Tennis & Squash Club   \n",
       "4                 SW8  Greater London         Southbank Club Squash Courts   \n",
       "\n",
       "     referralId  \n",
       "0  v-1546752378  \n",
       "1  v-1546752378  \n",
       "2  v-1546752378  \n",
       "3  v-1546752378  \n",
       "4  v-1546752378  "
      ]
     },
     "execution_count": 235,
     "metadata": {},
     "output_type": "execute_result"
    }
   ],
   "source": [
    "# assign relevant part of JSON to venues\n",
    "venues_Sq2_SHD = results_Sq2_SHD['response']['venues']\n",
    "\n",
    "# tranform venues into a dataframe\n",
    "Sq2_SHD = json_normalize(venues_Sq2_SHD)\n",
    "Sq2_SHD.rename(columns={'location.lat':'lat', 'location.lng':'lng'}, inplace=True)\n",
    "Sq2_SHD.head()"
   ]
  },
  {
   "cell_type": "code",
   "execution_count": 236,
   "metadata": {},
   "outputs": [
    {
     "name": "stdout",
     "output_type": "stream",
     "text": [
      "6 Squash Centres are near Shoreditch.\n"
     ]
    }
   ],
   "source": [
    "print('{} Squash Centres are near Shoreditch.'.format(Sq2_SHD.shape[0]))"
   ]
  },
  {
   "cell_type": "markdown",
   "metadata": {},
   "source": [
    "## PART 3 - Mapping the Results"
   ]
  },
  {
   "cell_type": "code",
   "execution_count": 239,
   "metadata": {},
   "outputs": [
    {
     "data": {
      "text/html": [
       "<div style=\"width:100%;\"><div style=\"position:relative;width:100%;height:0;padding-bottom:60%;\"><iframe src=\"data:text/html;charset=utf-8;base64,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\" style=\"position:absolute;width:100%;height:100%;left:0;top:0;border:none !important;\" allowfullscreen webkitallowfullscreen mozallowfullscreen></iframe></div></div>"
      ],
      "text/plain": [
       "<folium.folium.Map at 0x7ff5d697b550>"
      ]
     },
     "execution_count": 239,
     "metadata": {},
     "output_type": "execute_result"
    }
   ],
   "source": [
    "# create map of London using latitude and longitude values\n",
    "map_london = folium.Map(location=[51.5285, -0.0847], zoom_start=12, tiles = \"Stamen Toner\")\n",
    "# latitude = 51.5285\n",
    "# longitude = -0.0847\n",
    "\n",
    "\n",
    "# Blue Markers for Gym\n",
    "    # SOHO\n",
    "for lat, lng in zip(gyms.lat, gyms.lng):\n",
    "    label = 'SOHO Gyms'\n",
    "    label = folium.Popup(label, parse_html=True)\n",
    "    folium.CircleMarker(\n",
    "        [lat, lng],\n",
    "        radius=4,\n",
    "        popup=label,\n",
    "        color='blue',\n",
    "        fill=True,\n",
    "        fill_opacity=0.7).add_to(map_london)  \n",
    "\n",
    "    #Canary Wharf\n",
    "for lat, lng in zip(gym2_CW.lat, gym2_CW.lng):\n",
    "    label = 'Canary Wharf gyms'\n",
    "    label = folium.Popup(label, parse_html=True)\n",
    "    folium.CircleMarker(\n",
    "        [lat, lng],\n",
    "        radius=4,\n",
    "        popup=label,\n",
    "        color='Green',\n",
    "        fill=True,\n",
    "        fill_opacity=0.7).add_to(map_london)\n",
    "\n",
    "    #Shoreditch  \n",
    "for lat, lng in zip(gym3_SHD.lat, gym3_SHD.lng):\n",
    "    label = 'Shoreditch Gyms'\n",
    "    label = folium.Popup(label, parse_html=True)\n",
    "    folium.CircleMarker(\n",
    "        [lat, lng],\n",
    "        radius=4,\n",
    "        popup=label,\n",
    "        color='purple',\n",
    "        fill=True,\n",
    "        fill_opacity=0.7).add_to(map_london)\n",
    "     \n",
    "        \n",
    "# Red Markers for Squash Centres     \n",
    "\n",
    "    # SOHO\n",
    "for lat, lng in zip(Squash_df.lat, Squash_df.lng):\n",
    "    label = 'SOHO Squash'\n",
    "    label = folium.Popup(label, parse_html=True)\n",
    "    folium.CircleMarker(\n",
    "        [lat, lng],\n",
    "        radius=4,\n",
    "        popup=label,\n",
    "        color='red',\n",
    "        fill=True,\n",
    "        fill_opacity=0.7).add_to(map_london)    \n",
    "    \n",
    "    #Canary Wharf\n",
    "for lat, lng in zip(Sq2_CW.lat, Sq2_CW.lng):\n",
    "    label = 'Canary Wharf Squash'\n",
    "    label = folium.Popup(label, parse_html=True)\n",
    "    folium.CircleMarker(\n",
    "        [lat, lng],\n",
    "        radius=4,\n",
    "        popup=label,\n",
    "        color='orange',\n",
    "        fill=True,\n",
    "        fill_opacity=0.7).add_to(map_london)  \n",
    "\n",
    "    #Shoreditch\n",
    "for lat, lng in zip(Sq2_SHD.lat, Sq2_SHD.lng):\n",
    "    label = 'Shoreditch Squash'\n",
    "    label = folium.Popup(label, parse_html=True)\n",
    "    folium.CircleMarker(\n",
    "        [lat, lng],\n",
    "        radius=4,\n",
    "        popup=label,\n",
    "        color='yellow',\n",
    "        fill=True,\n",
    "        fill_opacity=0.7).add_to(map_london)  \n",
    "map_london"
   ]
  },
  {
   "cell_type": "markdown",
   "metadata": {},
   "source": [
    "## RECOMMENDATION"
   ]
  },
  {
   "cell_type": "markdown",
   "metadata": {},
   "source": [
    "The darker colours (Blue, Purple, Green) represent the gyms within the three areas for SOHO, Shoreditch and Canary Wharf respectively. \n",
    "If we can assume this is correlated to the demand of sports, there is a similar volume of gyms across the three areas.\n",
    "\n",
    "On the otherhand, the brighter colours (red, yellow and orange) represents the competition within the three respective regions SOHO, Shoreditch and Canary Wharf.\n",
    "we can see that there is a significant opportunity within the Canary Wharf region as there is a lack of squash courts near this area despite the consistently high volume of gyms in this area. \n",
    "\n",
    "**Conclusion** - As Canary wharf is one of the most densely populated areas by employees, the above insight poses a strong opportunity to be quite successful to open up a squash centre when only considering location as a factor. "
   ]
  }
 ],
 "metadata": {
  "kernelspec": {
   "display_name": "Python 3",
   "language": "python",
   "name": "python3"
  },
  "language_info": {
   "codemirror_mode": {
    "name": "ipython",
    "version": 3
   },
   "file_extension": ".py",
   "mimetype": "text/x-python",
   "name": "python",
   "nbconvert_exporter": "python",
   "pygments_lexer": "ipython3",
   "version": "3.6.6"
  }
 },
 "nbformat": 4,
 "nbformat_minor": 2
}
