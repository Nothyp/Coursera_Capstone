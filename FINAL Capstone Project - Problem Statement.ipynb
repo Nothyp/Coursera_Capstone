{
 "cells": [
  {
   "cell_type": "markdown",
   "metadata": {},
   "source": [
    "# Capstone Project - The Battle of Neighborhoods Introduction"
   ]
  },
  {
   "cell_type": "markdown",
   "metadata": {},
   "source": [
    "## Daniel Lee"
   ]
  },
  {
   "cell_type": "markdown",
   "metadata": {},
   "source": [
    "### Business Problem"
   ]
  },
  {
   "cell_type": "markdown",
   "metadata": {},
   "source": [
    "Squash has always been considered a great workout burning over 1000 calories per hour. Due to the intensity of the workout, there is a huge benefit of being able to have fun whilst exercising in a short time frame.  \n",
    "As London is known to be the financial hub with unpredictable weather throughout the year, Squash can be considered a great sport that one can commit to as a quick exercise without being affected by unpleasant weather. \n",
    "\n",
    ">Therefore, the business problem that needs to be addressed is finding the best location to open up a squash court."
   ]
  },
  {
   "cell_type": "markdown",
   "metadata": {},
   "source": [
    "### Source of Data - FourSquare"
   ]
  },
  {
   "cell_type": "markdown",
   "metadata": {},
   "source": [
    "To explore the best location to open a squash court, we could use FourSquare location data to explore some of the following: \n",
    "* **Competition of Squash Centres** - Number of Squash courts in a x-miles radius\n",
    "* **General Interest of Exercise or Workout** - Number of gyms in a x-miles radius\n",
    "* **Competition of Similar Sports** - Number of Badmington or TableTennis Centres in a x-miles radius \n",
    "\n",
    "An investor should select a location that has minimal competition whilst maximising prability of interested customers which we will be using the above to provide the best recommendation for this."
   ]
  },
  {
   "cell_type": "code",
   "execution_count": null,
   "metadata": {},
   "outputs": [],
   "source": []
  },
  {
   "cell_type": "code",
   "execution_count": null,
   "metadata": {},
   "outputs": [],
   "source": []
  },
  {
   "cell_type": "code",
   "execution_count": null,
   "metadata": {},
   "outputs": [],
   "source": []
  }
 ],
 "metadata": {
  "kernelspec": {
   "display_name": "Python 3",
   "language": "python",
   "name": "python3"
  },
  "language_info": {
   "codemirror_mode": {
    "name": "ipython",
    "version": 3
   },
   "file_extension": ".py",
   "mimetype": "text/x-python",
   "name": "python",
   "nbconvert_exporter": "python",
   "pygments_lexer": "ipython3",
   "version": "3.6.6"
  }
 },
 "nbformat": 4,
 "nbformat_minor": 2
}
